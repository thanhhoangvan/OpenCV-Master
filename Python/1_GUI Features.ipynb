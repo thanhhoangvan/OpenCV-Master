{
 "cells": [
  {
   "cell_type": "markdown",
   "id": "47625dbe-5ec0-48fa-b568-575a4c5e874f",
   "metadata": {},
   "source": [
    "# **Images**"
   ]
  },
  {
   "cell_type": "markdown",
   "id": "e5a9f0a2-4f6e-44b1-8ae0-ea2523ffc0a1",
   "metadata": {},
   "source": [
    "# **Videos**"
   ]
  },
  {
   "cell_type": "markdown",
   "id": "723671eb-ece2-43e2-a9ce-f60d49345c19",
   "metadata": {},
   "source": [
    "# **Core Operations**"
   ]
  },
  {
   "cell_type": "code",
   "execution_count": 3,
   "id": "842e72db-6f32-45b5-9072-418d5aa976a2",
   "metadata": {},
   "outputs": [],
   "source": [
    "import numpy as np\n",
    "import cv2\n",
    "\n",
    "img = cv2.imread('.cv.png')"
   ]
  },
  {
   "cell_type": "markdown",
   "id": "5d77ca2a-ffec-4f66-b458-33a1650608ba",
   "metadata": {},
   "source": [
    "## *Access pixel values and modify them*"
   ]
  },
  {
   "cell_type": "markdown",
   "id": "264999ea-5d23-4e06-ab60-d65809de62bc",
   "metadata": {},
   "source": [
    "## *Access image properties*"
   ]
  },
  {
   "cell_type": "markdown",
   "id": "fdf75275-fb16-48cc-8e43-5c94bcc18379",
   "metadata": {},
   "source": [
    "## *Set a Region of Interest (ROI)*"
   ]
  },
  {
   "cell_type": "markdown",
   "id": "9ef11de2-758b-43d4-a800-46cedc7e6671",
   "metadata": {},
   "source": [
    "## *Split and merge images*"
   ]
  },
  {
   "cell_type": "markdown",
   "id": "f0a91f0e-4478-4a42-a4f9-4eff4f9a7d22",
   "metadata": {},
   "source": [
    "## *Making Borders for Images (Padding)*"
   ]
  },
  {
   "cell_type": "markdown",
   "id": "9494ff15-1924-4872-8a3b-1a689fa8ece7",
   "metadata": {},
   "source": [
    "# **Arithmetic Operations**"
   ]
  },
  {
   "cell_type": "markdown",
   "id": "990a2155-889c-4358-8ae3-3bed979aea33",
   "metadata": {},
   "source": [
    "## *Image Addition*"
   ]
  },
  {
   "cell_type": "code",
   "execution_count": null,
   "id": "be342019-a674-4cff-bd4d-c7e3e1bc3f55",
   "metadata": {},
   "outputs": [],
   "source": []
  },
  {
   "cell_type": "markdown",
   "id": "13f2cb3d-1337-4594-8782-205430d6a0e5",
   "metadata": {},
   "source": [
    "## *Image Blending*"
   ]
  },
  {
   "cell_type": "code",
   "execution_count": null,
   "id": "531b97b3-b76b-40de-a5f0-3138e3e486c2",
   "metadata": {
    "tags": []
   },
   "outputs": [],
   "source": []
  },
  {
   "cell_type": "markdown",
   "id": "7107419e-a64f-4124-9786-6e2989f2ebf5",
   "metadata": {},
   "source": [
    "## *Bitwise Operations*"
   ]
  },
  {
   "cell_type": "code",
   "execution_count": null,
   "id": "56a32d41-7035-4a93-8152-8a3842661a30",
   "metadata": {},
   "outputs": [],
   "source": []
  },
  {
   "cell_type": "markdown",
   "id": "6645685c-c930-48cb-8aab-7ea5ff1604fe",
   "metadata": {},
   "source": []
  },
  {
   "cell_type": "code",
   "execution_count": null,
   "id": "80e4f58c-abe5-4b60-a587-dbb8e42dce4d",
   "metadata": {},
   "outputs": [],
   "source": []
  },
  {
   "cell_type": "code",
   "execution_count": null,
   "id": "16827922-49d1-4ca9-be46-d9ce794a3811",
   "metadata": {},
   "outputs": [],
   "source": []
  },
  {
   "cell_type": "code",
   "execution_count": null,
   "id": "19c6cbab-a760-4705-9087-d8e3df7c879b",
   "metadata": {},
   "outputs": [],
   "source": []
  },
  {
   "cell_type": "code",
   "execution_count": null,
   "id": "aa2d968b-824a-4273-8014-73baa8e0fc3a",
   "metadata": {},
   "outputs": [],
   "source": []
  }
 ],
 "metadata": {
  "kernelspec": {
   "display_name": "Python 3 (ipykernel)",
   "language": "python",
   "name": "python3"
  },
  "language_info": {
   "codemirror_mode": {
    "name": "ipython",
    "version": 3
   },
   "file_extension": ".py",
   "mimetype": "text/x-python",
   "name": "python",
   "nbconvert_exporter": "python",
   "pygments_lexer": "ipython3",
   "version": "3.8.10"
  }
 },
 "nbformat": 4,
 "nbformat_minor": 5
}

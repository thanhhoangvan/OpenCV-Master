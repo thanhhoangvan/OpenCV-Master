{
 "cells": [
  {
   "cell_type": "markdown",
   "id": "715a7932-7f66-4a55-9d22-437c48bac1a7",
   "metadata": {},
   "source": [
    "# **Python OpenCV Basic**"
   ]
  },
  {
   "cell_type": "code",
   "execution_count": null,
   "id": "b845616f-703a-4ac3-a364-8b6670439c81",
   "metadata": {},
   "outputs": [],
   "source": [
    "import os\n",
    "import sys\n",
    "import cv2\n",
    "import time\n",
    "import numpy as np"
   ]
  },
  {
   "cell_type": "code",
   "execution_count": null,
   "id": "c80645aa-1064-4306-ab76-ca94bd0fcdb2",
   "metadata": {},
   "outputs": [],
   "source": [
    "video_path = '../test.mp4'\n",
    "image_path = '../Opencv.png'"
   ]
  },
  {
   "cell_type": "markdown",
   "id": "85cce32f-f80a-440c-9365-ea8fac5f4864",
   "metadata": {},
   "source": [
    "# **Image**"
   ]
  },
  {
   "cell_type": "code",
   "execution_count": null,
   "id": "e393d252-bc2f-40a5-bac3-e5d3c7817283",
   "metadata": {},
   "outputs": [],
   "source": [
    "img = cv2.imread(image_path)\n",
    "\n",
    "if img is None:\n",
    "    sys.exit(\"Could not read the image.\")\n",
    "\n",
    "cv2.imshow(\"Display window\", img)\n",
    "cv2.waitKey(0)\n",
    "cv2.destroyAllWindows()"
   ]
  },
  {
   "cell_type": "markdown",
   "id": "7e3496b2-eaab-41de-883c-a91e347a24c0",
   "metadata": {},
   "source": [
    "# **Video**"
   ]
  },
  {
   "cell_type": "markdown",
   "id": "3aeb640b-be3e-4808-9798-ed15a05f36cb",
   "metadata": {},
   "source": [
    "## Capture from Camere"
   ]
  },
  {
   "cell_type": "code",
   "execution_count": null,
   "id": "64401be0-a73c-40ff-9f2c-b92a581cae89",
   "metadata": {},
   "outputs": [],
   "source": [
    "cam = cv2.VideoCapture(0)\n",
    "\n",
    "if not cam.isOpened():\n",
    "    print('Can not open camera!')\n",
    "    exit()\n",
    "\n",
    "while True:\n",
    "    ret, frame = cam.read()\n",
    "\n",
    "    if not ret:\n",
    "        print(\"Can not receive frame! Exiting...\")\n",
    "        break\n",
    "\n",
    "    cv2.imshow('Camera', frame)\n",
    "    if cv2.waitKey(1) & 0xFF == ord('q'):\n",
    "        break\n",
    "\n",
    "cam.release()\n",
    "cv2.destroyAllWindows()"
   ]
  },
  {
   "cell_type": "markdown",
   "id": "d766c77c-4f3b-4393-a9d5-9e9d05691f8d",
   "metadata": {},
   "source": [
    "## Read from file"
   ]
  },
  {
   "cell_type": "code",
   "execution_count": null,
   "id": "504de6f9-2d27-4bb2-9a45-1aa6517641d4",
   "metadata": {},
   "outputs": [],
   "source": [
    "vid = cv2.VideoCapture(video_path)\n",
    "fps= int(vid.get(cv2.CAP_PROP_FPS))\n",
    "\n",
    "while vid.isOpened():\n",
    "    ret, frame = vid.read()\n",
    "    if not ret:\n",
    "        break\n",
    "\n",
    "    time.sleep(1/fps)\n",
    "    cv2.imshow('Video', frame)\n",
    "    if cv2.waitKey(1) & 0xFF == ord('q'):\n",
    "        break\n",
    "\n",
    "cam.release()\n",
    "cv2.destroyAllWindows()"
   ]
  },
  {
   "cell_type": "markdown",
   "id": "400cc425-b63b-48da-a98a-36943b8973fe",
   "metadata": {},
   "source": [
    "# **Drawing**"
   ]
  },
  {
   "cell_type": "code",
   "execution_count": null,
   "id": "6511e0d5-22f7-4e8c-b4a9-63e51a2e5dec",
   "metadata": {},
   "outputs": [],
   "source": [
    "img = np.zeros((900, 1500, 3), np.uint8)"
   ]
  },
  {
   "cell_type": "markdown",
   "id": "ab68863e-0795-4525-b55c-6895f8ae6fab",
   "metadata": {},
   "source": [
    "## Line"
   ]
  },
  {
   "cell_type": "code",
   "execution_count": null,
   "id": "53f81e06-8e91-4990-b689-b904442f83fb",
   "metadata": {},
   "outputs": [],
   "source": [
    "cv2.line(img, (0, 0), (300, 300),(255,0,0),5)"
   ]
  },
  {
   "cell_type": "markdown",
   "id": "fe35ef79-6d4a-4d79-8c11-a552f21692b6",
   "metadata": {},
   "source": [
    "## Rectangle"
   ]
  },
  {
   "cell_type": "code",
   "execution_count": null,
   "id": "e4df49b1-becb-4bce-99db-53e464424e35",
   "metadata": {},
   "outputs": [],
   "source": [
    "cv2.rectangle(img, (0, 400), (800, 800), (255,0,0),5)"
   ]
  },
  {
   "cell_type": "markdown",
   "id": "47acb19b-c230-4fb7-961e-d9ac845f58c7",
   "metadata": {},
   "source": [
    "## Circle"
   ]
  },
  {
   "cell_type": "code",
   "execution_count": null,
   "id": "d985295e-4341-4913-97bc-9be58a0eb4c2",
   "metadata": {},
   "outputs": [],
   "source": [
    "cv2.circle(img,(447,63), 63, (0,0,255), -1)"
   ]
  },
  {
   "cell_type": "markdown",
   "id": "1862d8a9-5a98-4078-b40f-c2100a3f71e7",
   "metadata": {},
   "source": [
    "## Ellipse"
   ]
  },
  {
   "cell_type": "code",
   "execution_count": null,
   "id": "11212a03-af9a-4621-a405-c70195c524d2",
   "metadata": {},
   "outputs": [],
   "source": [
    "cv2.ellipse(img,(256,256),(100,50),0,0,180,255,-1)"
   ]
  },
  {
   "cell_type": "markdown",
   "id": "3cbd3521-a4b0-4c30-9182-8880a22f857f",
   "metadata": {},
   "source": [
    "## Text"
   ]
  },
  {
   "cell_type": "code",
   "execution_count": null,
   "id": "d7fdbf9b-ebe9-4fc4-80f3-6b45b10daea2",
   "metadata": {},
   "outputs": [],
   "source": [
    "font = cv2.FONT_HERSHEY_SIMPLEX\n",
    "cv2.putText(img,'OpenCV',(10,500), font, 4,(255,255,255),2,cv2.LINE_AA)"
   ]
  },
  {
   "cell_type": "code",
   "execution_count": null,
   "id": "6b5048b9-2e0f-49ac-ad91-643727bdbed3",
   "metadata": {},
   "outputs": [],
   "source": [
    "cv2.imshow(\"Drawing Result\", img)\n",
    "cv2.waitKey(0)\n",
    "cv2.destroyAllWindows()"
   ]
  },
  {
   "cell_type": "markdown",
   "id": "2630f351-71c0-4100-a2f3-541bd2274cca",
   "metadata": {},
   "source": [
    "---"
   ]
  },
  {
   "cell_type": "markdown",
   "id": "1688a1ee-1a32-4a8b-9874-fb46b4088a6a",
   "metadata": {},
   "source": [
    "# **Mouse**"
   ]
  },
  {
   "cell_type": "code",
   "execution_count": 11,
   "id": "4797885e-6bd2-4e58-a276-b7468046fade",
   "metadata": {},
   "outputs": [],
   "source": [
    "import numpy as np\n",
    "import cv2 as cv"
   ]
  },
  {
   "cell_type": "code",
   "execution_count": 29,
   "id": "d9c47c08-c4f6-4dd4-8b06-cdbc345b8c17",
   "metadata": {},
   "outputs": [],
   "source": [
    "idx, idy = -1, -1\n",
    "draw = False\n",
    "\n",
    "# mouse callback function\n",
    "def draw_rectangle(event,x,y,flags,param):\n",
    "    global idx, idy, draw\n",
    "    \n",
    "    if event == cv.EVENT_LBUTTONDOWN:\n",
    "        idx, idy = x, y\n",
    "        # draw = True\n",
    "    elif event == cv.EVENT_LBUTTONUP:\n",
    "        # draw = False\n",
    "        cv.rectangle(img,(ix,iy),(x,y),(0,255,0),5)\n",
    "\n",
    "#     if event == cv.EVENT_MOUSEMOVE:\n",
    "#         if draw:\n",
    "            \n",
    "#             cv.rectangle(img,(ix,iy),(x,y),(0,255,0),5)\n",
    "\n",
    "\n",
    "# Create a black image, a window and bind the function to window\n",
    "img = np.zeros((512,512,3), np.uint8)\n",
    "cv.namedWindow('image')\n",
    "cv.setMouseCallback('image',draw_rectangle)\n",
    "while(1):\n",
    "    cv.imshow('image',img)\n",
    "    if cv.waitKey(20) & 0xFF == 27:\n",
    "        break\n",
    "cv.destroyAllWindows()"
   ]
  },
  {
   "cell_type": "markdown",
   "id": "8e61c4f9-6f99-441e-818d-29bc24845206",
   "metadata": {},
   "source": [
    "---\n",
    "# **Trackbar**"
   ]
  },
  {
   "cell_type": "code",
   "execution_count": 30,
   "id": "8c4da1fe-f4df-4b5f-aeff-f96d41606880",
   "metadata": {},
   "outputs": [],
   "source": [
    "import cv2\n",
    "import numpy as np"
   ]
  },
  {
   "cell_type": "code",
   "execution_count": 33,
   "id": "4a6568f2-9fd4-4804-ab1b-ee98f19780f0",
   "metadata": {},
   "outputs": [],
   "source": [
    "import numpy as np\n",
    "import cv2 as cv\n",
    "\n",
    "def nothing(x):\n",
    "    pass\n",
    "\n",
    "# Create a black image, a window\n",
    "img = np.zeros((300,512,3), np.uint8)\n",
    "cv.namedWindow('image')\n",
    "\n",
    "# create trackbars for color change\n",
    "cv.createTrackbar('R','image',0,255,nothing)\n",
    "cv.createTrackbar('G','image',0,255,nothing)\n",
    "cv.createTrackbar('B','image',0,255,nothing)\n",
    "\n",
    "# create switch for ON/OFF functionality\n",
    "switch = '0 : OFF \\n1 : ON'\n",
    "cv.createTrackbar(switch, 'image',0,1,nothing)\n",
    "while(1):\n",
    "    cv.imshow('image',img)\n",
    "    k = cv.waitKey(1) & 0xFF\n",
    "    if k == 27:\n",
    "        break\n",
    "    # get current positions of four trackbars\n",
    "    r = cv.getTrackbarPos('R','image')\n",
    "    g = cv.getTrackbarPos('G','image')\n",
    "    b = cv.getTrackbarPos('B','image')\n",
    "    s = cv.getTrackbarPos(switch,'image')\n",
    "    if s == 0:\n",
    "        img[:] = 0\n",
    "    else:\n",
    "        img[:] = [b,g,r]\n",
    "cv.destroyAllWindows()"
   ]
  }
 ],
 "metadata": {
  "kernelspec": {
   "display_name": "Python 3 (ipykernel)",
   "language": "python",
   "name": "python3"
  },
  "language_info": {
   "codemirror_mode": {
    "name": "ipython",
    "version": 3
   },
   "file_extension": ".py",
   "mimetype": "text/x-python",
   "name": "python",
   "nbconvert_exporter": "python",
   "pygments_lexer": "ipython3",
   "version": "3.8.10"
  }
 },
 "nbformat": 4,
 "nbformat_minor": 5
}
